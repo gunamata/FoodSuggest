{
 "cells": [
  {
   "cell_type": "code",
   "execution_count": 32,
   "metadata": {},
   "outputs": [],
   "source": [
    "import boto3\n",
    "import os.path\n",
    "import os\n",
    "import json\n",
    "import pandas as pd\n",
    "import psycopg2\n",
    "import re\n",
    "from psycopg2.extras import RealDictCursor\n",
    "from pattern.text.en import singularize"
   ]
  },
  {
   "cell_type": "code",
   "execution_count": 33,
   "metadata": {},
   "outputs": [],
   "source": [
    "conn = psycopg2.connect(\"dbname='foodsuggest' host='foodsuggest.co04tmhhaeuf.us-east-1.rds.amazonaws.com' user='postgres' password='postgres' port='5432'\")\n",
    "cursor = conn.cursor(cursor_factory=RealDictCursor)"
   ]
  },
  {
   "cell_type": "code",
   "execution_count": 37,
   "metadata": {},
   "outputs": [
    {
     "name": "stdout",
     "output_type": "stream",
     "text": [
      "%s, %s\n",
      "['Fodmap', 'Keto']\n",
      "%s, %s\n",
      "['Ucolitus', 'Migraine']\n",
      "'Fodmap','Keto'\n",
      "'Ucolitus','Magrain'\n"
     ]
    }
   ],
   "source": [
    "searchOptions = {\"diets\":[\"Fodmap\",\"Keto\"],\"diseases\":[\"Ucolitus\",\"Migraine\"]}\n",
    "diets = searchOptions['diets']\n",
    "diseases = searchOptions['diseases']\n",
    "\n",
    "diets_list_len = len(diets)\n",
    "diet_placeholder = ''\n",
    "\n",
    "for i in range(diets_list_len): \n",
    "    diet_placeholder = diet_placeholder + '\\'' + diets[i] + '\\''\n",
    "    if(i < len(diets)-1):\n",
    "        diet_placeholder = diet_placeholder + ', '\n",
    "        \n",
    "        \n",
    "print(diet_placeholder)\n",
    "print(diets)\n",
    "        \n",
    "diseases_list_len = len(diets)\n",
    "disease_placeholder = ''\n",
    "\n",
    "for i in range(diseases_list_len): \n",
    "    disease_placeholder = disease_placeholder + '\\'' + diseases[i] + '\\''\n",
    "    if(i < len(diseases)-1):\n",
    "        disease_placeholder = disease_placeholder + ', '     \n",
    "\n",
    "print(disease_placeholder)\n",
    "print(diseases)\n",
    "\n",
    "diet_placeholder = '\\'Fodmap\\',\\'Keto\\''\n",
    "print(diet_placeholder)\n",
    "\n",
    "disease_placeholder = '\\'Ucolitus\\',\\'Magrain\\''\n",
    "print(disease_placeholder)\n"
   ]
  },
  {
   "cell_type": "code",
   "execution_count": 39,
   "metadata": {},
   "outputs": [
    {
     "name": "stdout",
     "output_type": "stream",
     "text": [
      "SELECT * FROM food WHERE \t    id IN (SELECT food_id FROM dietrecommendation WHERE recommended = 1 AND diet_id IN (SELECT id FROM diet WHERE name IN ('Fodmap','Keto'))) AND id NOT IN (SELECT food_id FROM dietrecommendation WHERE recommended = 0 AND diet_id IN (SELECT id FROM diet WHERE name IN ('Fodmap','Keto'))) AND id IN (SELECT food_id FROM diseaserecommendation WHERE recommended = 1 AND disease_id IN (SELECT id FROM disease WHERE name IN ('Ucolitus','Magrain'))) AND id NOT IN (SELECT food_id FROM diseaserecommendation WHERE recommended = 0 AND disease_id IN (SELECT id FROM disease WHERE name IN ('Ucolitus','Magrain')))\n",
      "[RealDictRow([('id', 9230), ('name', 'Banana'), ('categoryid', 8160)])]\n"
     ]
    }
   ],
   "source": [
    "psql = 'SELECT * FROM food WHERE \\\n",
    "\t    id IN (SELECT food_id FROM dietrecommendation WHERE recommended = 1 AND diet_id IN (SELECT id FROM diet WHERE name IN (' + diet_placeholder + '))) AND ' + \\\n",
    "        'id NOT IN (SELECT food_id FROM dietrecommendation WHERE recommended = 0 AND diet_id IN (SELECT id FROM diet WHERE name IN (' + diet_placeholder + '))) AND ' + \\\n",
    "        'id IN (SELECT food_id FROM diseaserecommendation WHERE recommended = 1 AND disease_id IN (SELECT id FROM disease WHERE name IN (' + disease_placeholder + '))) AND ' + \\\n",
    "        'id NOT IN (SELECT food_id FROM diseaserecommendation WHERE recommended = 0 AND disease_id IN (SELECT id FROM disease WHERE name IN (' + disease_placeholder + ')))'\n",
    "print(psql)\n",
    "cursor.execute(psql)\n",
    "foodsuggestions = cursor.fetchall()\n",
    "print(foodsuggestions)\n",
    "                                "
   ]
  },
  {
   "cell_type": "code",
   "execution_count": null,
   "metadata": {},
   "outputs": [],
   "source": []
  }
 ],
 "metadata": {
  "kernelspec": {
   "display_name": "Python 3",
   "language": "python",
   "name": "python3"
  },
  "language_info": {
   "codemirror_mode": {
    "name": "ipython",
    "version": 3
   },
   "file_extension": ".py",
   "mimetype": "text/x-python",
   "name": "python",
   "nbconvert_exporter": "python",
   "pygments_lexer": "ipython3",
   "version": "3.6.10"
  }
 },
 "nbformat": 4,
 "nbformat_minor": 4
}
